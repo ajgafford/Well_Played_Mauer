{
 "cells": [
  {
   "cell_type": "markdown",
   "id": "35634a81-280e-4380-a951-f89ef9f3cfaf",
   "metadata": {},
   "source": [
    "# Well Played, Mauer\n",
    "\n",
    "Calculating run expectancy for various scenarios."
   ]
  },
  {
   "cell_type": "code",
   "execution_count": 1,
   "id": "5caabbee-e24d-4917-bf54-305a2098bafd",
   "metadata": {},
   "outputs": [],
   "source": [
    "# import the necessary packages\n",
    "import pandas as pd"
   ]
  },
  {
   "cell_type": "code",
   "execution_count": 2,
   "id": "d882e543-0ffa-4412-8320-49392d4ce1db",
   "metadata": {},
   "outputs": [
    {
     "data": {
      "text/html": [
       "<div>\n",
       "<style scoped>\n",
       "    .dataframe tbody tr th:only-of-type {\n",
       "        vertical-align: middle;\n",
       "    }\n",
       "\n",
       "    .dataframe tbody tr th {\n",
       "        vertical-align: top;\n",
       "    }\n",
       "\n",
       "    .dataframe thead th {\n",
       "        text-align: right;\n",
       "    }\n",
       "</style>\n",
       "<table border=\"1\" class=\"dataframe\">\n",
       "  <thead>\n",
       "    <tr style=\"text-align: right;\">\n",
       "      <th></th>\n",
       "      <th>Bases</th>\n",
       "      <th>0 Out</th>\n",
       "      <th>1 Out</th>\n",
       "      <th>2 Out</th>\n",
       "    </tr>\n",
       "  </thead>\n",
       "  <tbody>\n",
       "    <tr>\n",
       "      <th>0</th>\n",
       "      <td>_ _ _</td>\n",
       "      <td>0.52</td>\n",
       "      <td>0.28</td>\n",
       "      <td>0.11</td>\n",
       "    </tr>\n",
       "    <tr>\n",
       "      <th>1</th>\n",
       "      <td>1 _ _</td>\n",
       "      <td>0.89</td>\n",
       "      <td>0.54</td>\n",
       "      <td>0.23</td>\n",
       "    </tr>\n",
       "    <tr>\n",
       "      <th>2</th>\n",
       "      <td>_ 2 _</td>\n",
       "      <td>1.15</td>\n",
       "      <td>0.70</td>\n",
       "      <td>0.32</td>\n",
       "    </tr>\n",
       "    <tr>\n",
       "      <th>3</th>\n",
       "      <td>1 2 _</td>\n",
       "      <td>1.49</td>\n",
       "      <td>0.93</td>\n",
       "      <td>0.46</td>\n",
       "    </tr>\n",
       "    <tr>\n",
       "      <th>4</th>\n",
       "      <td>_ _ 3</td>\n",
       "      <td>1.32</td>\n",
       "      <td>0.97</td>\n",
       "      <td>0.38</td>\n",
       "    </tr>\n",
       "    <tr>\n",
       "      <th>5</th>\n",
       "      <td>1 _ 3</td>\n",
       "      <td>1.76</td>\n",
       "      <td>1.21</td>\n",
       "      <td>0.53</td>\n",
       "    </tr>\n",
       "    <tr>\n",
       "      <th>6</th>\n",
       "      <td>_ 2 3</td>\n",
       "      <td>2.02</td>\n",
       "      <td>1.41</td>\n",
       "      <td>0.57</td>\n",
       "    </tr>\n",
       "    <tr>\n",
       "      <th>7</th>\n",
       "      <td>1 2 3</td>\n",
       "      <td>2.28</td>\n",
       "      <td>1.56</td>\n",
       "      <td>0.75</td>\n",
       "    </tr>\n",
       "  </tbody>\n",
       "</table>\n",
       "</div>"
      ],
      "text/plain": [
       "   Bases  0 Out  1 Out  2 Out\n",
       "0  _ _ _   0.52   0.28   0.11\n",
       "1  1 _ _   0.89   0.54   0.23\n",
       "2  _ 2 _   1.15   0.70   0.32\n",
       "3  1 2 _   1.49   0.93   0.46\n",
       "4  _ _ 3   1.32   0.97   0.38\n",
       "5  1 _ 3   1.76   1.21   0.53\n",
       "6  _ 2 3   2.02   1.41   0.57\n",
       "7  1 2 3   2.28   1.56   0.75"
      ]
     },
     "execution_count": 2,
     "metadata": {},
     "output_type": "execute_result"
    }
   ],
   "source": [
    "# create the run expectancy matrix\n",
    "# values created using greg stoll's calculator\n",
    "data = {\n",
    "    'Bases':['_ _ _', '1 _ _', '_ 2 _', '1 2 _', '_ _ 3', '1 _ 3', '_ 2 3', '1 2 3'],\n",
    "    '0 Out':[0.52, 0.89, 1.15, 1.49, 1.32, 1.76, 2.02, 2.28],\n",
    "    '1 Out':[0.28, 0.54, 0.70, 0.93, 0.97, 1.21, 1.41, 1.56],\n",
    "    '2 Out':[0.11, 0.23, 0.32, 0.46, 0.38, 0.53, 0.57, 0.75]\n",
    "}\n",
    "\n",
    "re_matrix = pd.DataFrame(data)\n",
    "re_matrix"
   ]
  },
  {
   "cell_type": "code",
   "execution_count": 5,
   "id": "104c9c3b-07a6-45c1-99d2-9646e869ec6f",
   "metadata": {},
   "outputs": [],
   "source": [
    "# define function to calculated the net run expectancy (re24)\n",
    "def calc_re24(re_before, re_after, rs = 0):\n",
    "    return re_after - re_before + rs"
   ]
  },
  {
   "cell_type": "markdown",
   "id": "f1e37185-3752-4750-9ad8-fe9a6e8febbe",
   "metadata": {},
   "source": [
    "What's the net run expectancy for common scenarios, like with the bases empty? For a walk and single, they would be the same!"
   ]
  },
  {
   "cell_type": "code",
   "execution_count": 7,
   "id": "4d26fdc0-88ff-4608-a1c0-88077eb315d9",
   "metadata": {},
   "outputs": [
    {
     "name": "stdout",
     "output_type": "stream",
     "text": [
      "Net Run Expectancy = 0.37\n"
     ]
    }
   ],
   "source": [
    "re24_0out_empty = calc_re24(re_matrix['0 Out'][re_matrix['Bases'] == '_ _ _'].values[0], re_matrix['0 Out'][re_matrix['Bases'] == '1 _ _'].values[0])\n",
    "print(f'Net Run Expectancy = {re24_0out_empty}')"
   ]
  },
  {
   "cell_type": "markdown",
   "id": "6ff95c56-6bee-4f59-a41a-18eb28899801",
   "metadata": {},
   "source": [
    "Obviously, in some scenarios with runners on, the two would be the same. But even in some instances where the runner is forced, the single can be more valuable. How much more valuable?\n",
    "\n",
    "Let's say there is a runner at 1B with 1 out!"
   ]
  },
  {
   "cell_type": "code",
   "execution_count": 9,
   "id": "80994c45-7e8d-4c65-bc63-c028207528cb",
   "metadata": {},
   "outputs": [
    {
     "name": "stdout",
     "output_type": "stream",
     "text": [
      "Net Run Expectancy for the Walk = 0.39\n",
      "Net Run Expectancy for the Single = 0.67\n",
      "The Single is 1.72 times as valuable as a Walk.\n"
     ]
    }
   ],
   "source": [
    "re24_walk = calc_re24(re_matrix['1 Out'][re_matrix['Bases'] == '1 _ _'].values[0], re_matrix['1 Out'][re_matrix['Bases'] == '1 2 _'].values[0])\n",
    "re24_single = calc_re24(re_matrix['1 Out'][re_matrix['Bases'] == '1 _ _'].values[0], re_matrix['1 Out'][re_matrix['Bases'] == '1 _ 3'].values[0])\n",
    "\n",
    "print(f'Net Run Expectancy for the Walk = {re24_walk:.2f}')\n",
    "print(f'Net Run Expectancy for the Single = {re24_single:.2f}')\n",
    "print(f'The Single is {re24_single / re24_walk:.2f} times as valuable as a Walk.')"
   ]
  },
  {
   "cell_type": "markdown",
   "id": "f1bba17b-df52-47a3-b405-d1b8f94e7d37",
   "metadata": {},
   "source": [
    "Or, runner at 3B with 2 out?"
   ]
  },
  {
   "cell_type": "code",
   "execution_count": 10,
   "id": "6a010cea-eda2-41d4-8ec2-c88b81e9ca3a",
   "metadata": {},
   "outputs": [
    {
     "name": "stdout",
     "output_type": "stream",
     "text": [
      "Net Run Expectancy for the Walk = 0.15\n",
      "Net Run Expectancy for the Single = 0.85\n",
      "The Single is 5.67 times as valuable as a Walk.\n"
     ]
    }
   ],
   "source": [
    "re24_walk = calc_re24(re_matrix['2 Out'][re_matrix['Bases'] == '_ _ 3'].values[0], re_matrix['2 Out'][re_matrix['Bases'] == '1 _ 3'].values[0])\n",
    "re24_single = calc_re24(re_matrix['2 Out'][re_matrix['Bases'] == '_ _ 3'].values[0], re_matrix['2 Out'][re_matrix['Bases'] == '1 _ _'].values[0], 1)\n",
    "\n",
    "print(f'Net Run Expectancy for the Walk = {re24_walk:.2f}')\n",
    "print(f'Net Run Expectancy for the Single = {re24_single:.2f}')\n",
    "print(f'The Single is {re24_single / re24_walk:.2f} times as valuable as a Walk.')"
   ]
  }
 ],
 "metadata": {
  "kernelspec": {
   "display_name": "Python3 (Mauer)",
   "language": "python",
   "name": "myproject-env"
  },
  "language_info": {
   "codemirror_mode": {
    "name": "ipython",
    "version": 3
   },
   "file_extension": ".py",
   "mimetype": "text/x-python",
   "name": "python",
   "nbconvert_exporter": "python",
   "pygments_lexer": "ipython3",
   "version": "3.9.6"
  }
 },
 "nbformat": 4,
 "nbformat_minor": 5
}
