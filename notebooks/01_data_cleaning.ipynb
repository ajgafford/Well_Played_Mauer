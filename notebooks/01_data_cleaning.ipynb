{
 "cells": [
  {
   "cell_type": "markdown",
   "id": "795f12c7-7b1d-4873-bc6e-5f3531d6abab",
   "metadata": {},
   "source": [
    "# Well Played, Mauer: Data Cleaning\n",
    "\n",
    "Where all of my raw CSVs will be imported, cleaned, and exported for analysis for the larger **Well Played, Mauer** series on offensive production."
   ]
  },
  {
   "cell_type": "code",
   "execution_count": 1,
   "id": "d1062426-6397-4d7e-ac83-15535f476e1a",
   "metadata": {},
   "outputs": [],
   "source": [
    "# import the necessary packages\n",
    "import os\n",
    "import sys\n",
    "import pandas as pd"
   ]
  },
  {
   "cell_type": "code",
   "execution_count": 2,
   "id": "b5c65b6d-ef0d-44b4-ac08-a1ebef226c3d",
   "metadata": {},
   "outputs": [],
   "source": [
    "# set up the file paths\n",
    "project_root = os.path.abspath(os.path.join(os.getcwd(), '..'))\n",
    "raw_data_dir = os.path.join(project_root, 'data', 'raw')\n",
    "processed_data_dir = os.path.join(project_root, 'data', 'processed')\n",
    "\n",
    "# test the paths\n",
    "# print(f'Project Root: {project_root}')\n",
    "# print(f'Raw Data Directory: {raw_data_dir}')\n",
    "# print(f'Processed Data Directory: {processed_data_dir}')"
   ]
  },
  {
   "cell_type": "code",
   "execution_count": 3,
   "id": "cf1e9136-228b-43fe-95fb-f1934434d1d0",
   "metadata": {},
   "outputs": [
    {
     "name": "stdout",
     "output_type": "stream",
     "text": [
      "<class 'pandas.core.frame.DataFrame'>\n",
      "RangeIndex: 155 entries, 0 to 154\n",
      "Data columns (total 41 columns):\n",
      " #   Column             Non-Null Count  Dtype  \n",
      "---  ------             --------------  -----  \n",
      " 0   Rk                 155 non-null    int64  \n",
      " 1   Player             155 non-null    object \n",
      " 2   Age                155 non-null    int64  \n",
      " 3   Team               155 non-null    object \n",
      " 4   Lg                 155 non-null    object \n",
      " 5   G                  155 non-null    int64  \n",
      " 6   PA                 155 non-null    int64  \n",
      " 7   AB                 155 non-null    int64  \n",
      " 8   R                  155 non-null    int64  \n",
      " 9   H                  155 non-null    int64  \n",
      " 10  1B                 155 non-null    int64  \n",
      " 11  2B                 155 non-null    int64  \n",
      " 12  3B                 155 non-null    int64  \n",
      " 13  HR                 155 non-null    int64  \n",
      " 14  RBI                155 non-null    int64  \n",
      " 15  SB                 155 non-null    int64  \n",
      " 16  CS                 155 non-null    int64  \n",
      " 17  BB                 155 non-null    int64  \n",
      " 18  SO                 155 non-null    int64  \n",
      " 19  BA                 155 non-null    float64\n",
      " 20  OBP                155 non-null    float64\n",
      " 21  SLG                155 non-null    float64\n",
      " 22  OPS                155 non-null    float64\n",
      " 23  OPS+               155 non-null    int64  \n",
      " 24  TB                 155 non-null    int64  \n",
      " 25  GIDP               155 non-null    int64  \n",
      " 26  HBP                155 non-null    int64  \n",
      " 27  SH                 155 non-null    int64  \n",
      " 28  SF                 155 non-null    int64  \n",
      " 29  IBB                155 non-null    int64  \n",
      " 30  WAR                155 non-null    float64\n",
      " 31  WAA                155 non-null    float64\n",
      " 32  oWAR               155 non-null    float64\n",
      " 33  dWAR               155 non-null    float64\n",
      " 34  Rbat               155 non-null    int64  \n",
      " 35  Rdp                155 non-null    int64  \n",
      " 36  Rbaser             155 non-null    int64  \n",
      " 37  Rbaser + Rdp       155 non-null    int64  \n",
      " 38  Rfield             155 non-null    int64  \n",
      " 39  Pos                155 non-null    object \n",
      " 40  Player-additional  155 non-null    object \n",
      "dtypes: float64(8), int64(28), object(5)\n",
      "memory usage: 49.8+ KB\n"
     ]
    }
   ],
   "source": [
    "# read in the csv for qualified batters in 2009\n",
    "# data courtesy of stathead\n",
    "filename = 'mlb_qualified_batters_2009.csv'\n",
    "csv_path = os.path.join(raw_data_dir, filename)\n",
    "batters_2009 = pd.read_csv(csv_path)\n",
    "\n",
    "batters_2009.info()"
   ]
  },
  {
   "cell_type": "markdown",
   "id": "0a8e4389-b982-4c65-ba17-3e25202a37ee",
   "metadata": {},
   "source": [
    "There do not appear to be any strange data types!"
   ]
  },
  {
   "cell_type": "code",
   "execution_count": 4,
   "id": "db957bf0-b8f6-47aa-ac80-8017f126326e",
   "metadata": {},
   "outputs": [
    {
     "name": "stdout",
     "output_type": "stream",
     "text": [
      "<class 'pandas.core.frame.DataFrame'>\n",
      "RangeIndex: 157 entries, 0 to 156\n",
      "Data columns (total 29 columns):\n",
      " #   Column             Non-Null Count  Dtype  \n",
      "---  ------             --------------  -----  \n",
      " 0   Rk                 157 non-null    int64  \n",
      " 1   Player             157 non-null    object \n",
      " 2   Age                157 non-null    int64  \n",
      " 3   Team               157 non-null    object \n",
      " 4   Lg                 157 non-null    object \n",
      " 5   PA                 157 non-null    int64  \n",
      " 6   rOBA               157 non-null    float64\n",
      " 7   Rbat+              157 non-null    int64  \n",
      " 8   BAbip              157 non-null    float64\n",
      " 9   ISO                157 non-null    float64\n",
      " 10  HR%                157 non-null    float64\n",
      " 11  SO%                157 non-null    float64\n",
      " 12  BB%                157 non-null    float64\n",
      " 13  LD%                157 non-null    float64\n",
      " 14  GB%                157 non-null    float64\n",
      " 15  FB%                157 non-null    float64\n",
      " 16  GB/FB              157 non-null    float64\n",
      " 17  Pull%              157 non-null    float64\n",
      " 18  Cent%              157 non-null    float64\n",
      " 19  Oppo%              157 non-null    float64\n",
      " 20  WPA                157 non-null    float64\n",
      " 21  cWPA               157 non-null    object \n",
      " 22  RE24               157 non-null    float64\n",
      " 23  RS%                157 non-null    float64\n",
      " 24  SB%                152 non-null    float64\n",
      " 25  XBT%               157 non-null    float64\n",
      " 26  Pos                157 non-null    object \n",
      " 27  Awards             67 non-null     object \n",
      " 28  Player-additional  157 non-null    object \n",
      "dtypes: float64(18), int64(4), object(7)\n",
      "memory usage: 35.7+ KB\n"
     ]
    }
   ],
   "source": [
    "# read in the csv for advanced batting stats\n",
    "# for qualified batters in 2009\n",
    "# data courtesy of baseball reference\n",
    "filename = 'mlb_qualified_batters_2009_adv.csv'\n",
    "csv_path = os.path.join(raw_data_dir, filename)\n",
    "batters_2009_adv = pd.read_csv(csv_path)\n",
    "\n",
    "batters_2009_adv.info()"
   ]
  },
  {
   "cell_type": "markdown",
   "id": "d2365a2c-c72c-4b0e-98fd-b88e3272c981",
   "metadata": {},
   "source": [
    "The columns I want to use are fine."
   ]
  },
  {
   "cell_type": "code",
   "execution_count": 5,
   "id": "a580d1ce-2232-48e6-9483-baa996a95dc0",
   "metadata": {},
   "outputs": [],
   "source": [
    "# specify the columns to use from the right df\n",
    "columns = [\n",
    "    'rOBA',\n",
    "    'Rbat+',\n",
    "    'BAbip',\n",
    "    'ISO',\n",
    "    'HR%',\n",
    "    'SO%',\n",
    "    'BB%',\n",
    "    'LD%',\n",
    "    'GB%',\n",
    "    'FB%',\n",
    "    'GB/FB',\n",
    "    'Pull%',\n",
    "    'Cent%',\n",
    "    'Oppo%',\n",
    "    'WPA',\n",
    "    'RE24',\n",
    "    'Player-additional'\n",
    "]"
   ]
  },
  {
   "cell_type": "code",
   "execution_count": 6,
   "id": "0833e214-6416-4af8-9472-127baf321e7c",
   "metadata": {},
   "outputs": [
    {
     "name": "stdout",
     "output_type": "stream",
     "text": [
      "<class 'pandas.core.frame.DataFrame'>\n",
      "RangeIndex: 155 entries, 0 to 154\n",
      "Data columns (total 57 columns):\n",
      " #   Column             Non-Null Count  Dtype  \n",
      "---  ------             --------------  -----  \n",
      " 0   Rk                 155 non-null    int64  \n",
      " 1   Player             155 non-null    object \n",
      " 2   Age                155 non-null    int64  \n",
      " 3   Team               155 non-null    object \n",
      " 4   Lg                 155 non-null    object \n",
      " 5   G                  155 non-null    int64  \n",
      " 6   PA                 155 non-null    int64  \n",
      " 7   AB                 155 non-null    int64  \n",
      " 8   R                  155 non-null    int64  \n",
      " 9   H                  155 non-null    int64  \n",
      " 10  1B                 155 non-null    int64  \n",
      " 11  2B                 155 non-null    int64  \n",
      " 12  3B                 155 non-null    int64  \n",
      " 13  HR                 155 non-null    int64  \n",
      " 14  RBI                155 non-null    int64  \n",
      " 15  SB                 155 non-null    int64  \n",
      " 16  CS                 155 non-null    int64  \n",
      " 17  BB                 155 non-null    int64  \n",
      " 18  SO                 155 non-null    int64  \n",
      " 19  BA                 155 non-null    float64\n",
      " 20  OBP                155 non-null    float64\n",
      " 21  SLG                155 non-null    float64\n",
      " 22  OPS                155 non-null    float64\n",
      " 23  OPS+               155 non-null    int64  \n",
      " 24  TB                 155 non-null    int64  \n",
      " 25  GIDP               155 non-null    int64  \n",
      " 26  HBP                155 non-null    int64  \n",
      " 27  SH                 155 non-null    int64  \n",
      " 28  SF                 155 non-null    int64  \n",
      " 29  IBB                155 non-null    int64  \n",
      " 30  WAR                155 non-null    float64\n",
      " 31  WAA                155 non-null    float64\n",
      " 32  oWAR               155 non-null    float64\n",
      " 33  dWAR               155 non-null    float64\n",
      " 34  Rbat               155 non-null    int64  \n",
      " 35  Rdp                155 non-null    int64  \n",
      " 36  Rbaser             155 non-null    int64  \n",
      " 37  Rbaser + Rdp       155 non-null    int64  \n",
      " 38  Rfield             155 non-null    int64  \n",
      " 39  Pos                155 non-null    object \n",
      " 40  Player-additional  155 non-null    object \n",
      " 41  rOBA               155 non-null    float64\n",
      " 42  Rbat+              155 non-null    int64  \n",
      " 43  BAbip              155 non-null    float64\n",
      " 44  ISO                155 non-null    float64\n",
      " 45  HR%                155 non-null    float64\n",
      " 46  SO%                155 non-null    float64\n",
      " 47  BB%                155 non-null    float64\n",
      " 48  LD%                155 non-null    float64\n",
      " 49  GB%                155 non-null    float64\n",
      " 50  FB%                155 non-null    float64\n",
      " 51  GB/FB              155 non-null    float64\n",
      " 52  Pull%              155 non-null    float64\n",
      " 53  Cent%              155 non-null    float64\n",
      " 54  Oppo%              155 non-null    float64\n",
      " 55  WPA                155 non-null    float64\n",
      " 56  RE24               155 non-null    float64\n",
      "dtypes: float64(23), int64(29), object(5)\n",
      "memory usage: 69.1+ KB\n"
     ]
    }
   ],
   "source": [
    "# merge the two dataframes\n",
    "merged_batters = pd.merge(\n",
    "    batters_2009,\n",
    "    batters_2009_adv[columns],\n",
    "    how='left',\n",
    "    on='Player-additional'\n",
    ")\n",
    "merged_batters.info()"
   ]
  },
  {
   "cell_type": "markdown",
   "id": "0d06f256-265e-49db-aa15-bc20d4581b28",
   "metadata": {},
   "source": [
    "This merged dataframe has everything I could need!"
   ]
  },
  {
   "cell_type": "code",
   "execution_count": null,
   "id": "e0b7165a-7bc5-4c9d-b234-a4e54160459c",
   "metadata": {},
   "outputs": [],
   "source": [
    "# export the dataframe for qualified mlb batters in 2009\n",
    "filename = 'mlb_qualified_batters_2009_processed.csv'\n",
    "csv_path = os.path.join(processed_data_dir, filename)\n",
    "merged_batters.to_csv(csv_path)"
   ]
  },
  {
   "cell_type": "code",
   "execution_count": null,
   "id": "df8a5705-be2f-4882-9e86-1cbd40230359",
   "metadata": {},
   "outputs": [],
   "source": [
    "# read in the csv for major league batting totals\n",
    "# data courtesy of baseball reference\n",
    "filename = 'ml_batting_totals.csv'\n",
    "csv_path = os.path.join(raw_data_dir, filename)\n",
    "ml_batting = pd.read_csv(csv_path)\n",
    "\n",
    "ml_batting.info()"
   ]
  },
  {
   "cell_type": "markdown",
   "id": "24c9f5ef-0021-4fbb-b8a5-5ee6600ded01",
   "metadata": {},
   "source": [
    "## Cleaning for Dashboard Usage\n",
    "\n",
    "I have some transformation of the dataframes to do in order to create some of the dashboards I want.\n",
    "\n",
    "First, I want to make bar charts for the various rate metrics that compare a filtered player to the League. To accomplish this, I need each row to be for a Player, Stat, and Value. So, basically, a row would be like Joe Mauer, AVG, .365. Then, I can add in the MLB averages using the data from Baseball Reference."
   ]
  },
  {
   "cell_type": "code",
   "execution_count": 10,
   "id": "6608cc56-4d89-4a41-b0b7-87b780ea68a6",
   "metadata": {},
   "outputs": [
    {
     "name": "stdout",
     "output_type": "stream",
     "text": [
      "<class 'pandas.core.frame.DataFrame'>\n",
      "RangeIndex: 155 entries, 0 to 154\n",
      "Data columns (total 57 columns):\n",
      " #   Column             Non-Null Count  Dtype  \n",
      "---  ------             --------------  -----  \n",
      " 0   Rk                 155 non-null    int64  \n",
      " 1   Player             155 non-null    object \n",
      " 2   Age                155 non-null    int64  \n",
      " 3   Team               155 non-null    object \n",
      " 4   Lg                 155 non-null    object \n",
      " 5   G                  155 non-null    int64  \n",
      " 6   PA                 155 non-null    int64  \n",
      " 7   AB                 155 non-null    int64  \n",
      " 8   R                  155 non-null    int64  \n",
      " 9   H                  155 non-null    int64  \n",
      " 10  1B                 155 non-null    int64  \n",
      " 11  2B                 155 non-null    int64  \n",
      " 12  3B                 155 non-null    int64  \n",
      " 13  HR                 155 non-null    int64  \n",
      " 14  RBI                155 non-null    int64  \n",
      " 15  SB                 155 non-null    int64  \n",
      " 16  CS                 155 non-null    int64  \n",
      " 17  BB                 155 non-null    int64  \n",
      " 18  SO                 155 non-null    int64  \n",
      " 19  AVG                155 non-null    float64\n",
      " 20  OBP                155 non-null    float64\n",
      " 21  SLG                155 non-null    float64\n",
      " 22  OPS                155 non-null    float64\n",
      " 23  OPS+               155 non-null    int64  \n",
      " 24  TB                 155 non-null    int64  \n",
      " 25  GIDP               155 non-null    int64  \n",
      " 26  HBP                155 non-null    int64  \n",
      " 27  SH                 155 non-null    int64  \n",
      " 28  SF                 155 non-null    int64  \n",
      " 29  IBB                155 non-null    int64  \n",
      " 30  WAR                155 non-null    float64\n",
      " 31  WAA                155 non-null    float64\n",
      " 32  oWAR               155 non-null    float64\n",
      " 33  dWAR               155 non-null    float64\n",
      " 34  Rbat               155 non-null    int64  \n",
      " 35  Rdp                155 non-null    int64  \n",
      " 36  Rbaser             155 non-null    int64  \n",
      " 37  Rbaser + Rdp       155 non-null    int64  \n",
      " 38  Rfield             155 non-null    int64  \n",
      " 39  Pos                155 non-null    object \n",
      " 40  Player-additional  155 non-null    object \n",
      " 41  rOBA               155 non-null    float64\n",
      " 42  Rbat+              155 non-null    int64  \n",
      " 43  BABiP              155 non-null    float64\n",
      " 44  ISO                155 non-null    float64\n",
      " 45  HR%                155 non-null    float64\n",
      " 46  SO%                155 non-null    float64\n",
      " 47  BB%                155 non-null    float64\n",
      " 48  LD%                155 non-null    float64\n",
      " 49  GB%                155 non-null    float64\n",
      " 50  FB%                155 non-null    float64\n",
      " 51  GB/FB              155 non-null    float64\n",
      " 52  Pull%              155 non-null    float64\n",
      " 53  Cent%              155 non-null    float64\n",
      " 54  Oppo%              155 non-null    float64\n",
      " 55  WPA                155 non-null    float64\n",
      " 56  RE24               155 non-null    float64\n",
      "dtypes: float64(23), int64(29), object(5)\n",
      "memory usage: 69.1+ KB\n"
     ]
    }
   ],
   "source": [
    "# rename BA to AVG\n",
    "merged_batters.rename(columns={'BA':'AVG', 'BAbip':'BABiP'}, inplace=True)\n",
    "merged_batters.info()"
   ]
  },
  {
   "cell_type": "code",
   "execution_count": 11,
   "id": "ea9007de-dae1-409d-b1d0-e664e36ed508",
   "metadata": {},
   "outputs": [],
   "source": [
    "# isolate the columns to use for the transformed df\n",
    "columns_to_use = [\n",
    "    'Player',\n",
    "    'AVG',\n",
    "    'OBP',\n",
    "    'SLG',\n",
    "    'BABiP',\n",
    "    'ISO',\n",
    "    'GB%',\n",
    "    'FB%',\n",
    "    'LD%',\n",
    "    'Oppo%',\n",
    "    'Cent%',\n",
    "    'Pull%'\n",
    "]"
   ]
  },
  {
   "cell_type": "code",
   "execution_count": 12,
   "id": "9d9bf6ef-55b9-4abf-99b5-e892f86b7d1e",
   "metadata": {},
   "outputs": [
    {
     "name": "stdout",
     "output_type": "stream",
     "text": [
      "<class 'pandas.core.frame.DataFrame'>\n",
      "RangeIndex: 155 entries, 0 to 154\n",
      "Data columns (total 12 columns):\n",
      " #   Column  Non-Null Count  Dtype  \n",
      "---  ------  --------------  -----  \n",
      " 0   Player  155 non-null    object \n",
      " 1   AVG     155 non-null    float64\n",
      " 2   OBP     155 non-null    float64\n",
      " 3   SLG     155 non-null    float64\n",
      " 4   BABiP   155 non-null    float64\n",
      " 5   ISO     155 non-null    float64\n",
      " 6   GB%     155 non-null    float64\n",
      " 7   FB%     155 non-null    float64\n",
      " 8   LD%     155 non-null    float64\n",
      " 9   Oppo%   155 non-null    float64\n",
      " 10  Cent%   155 non-null    float64\n",
      " 11  Pull%   155 non-null    float64\n",
      "dtypes: float64(11), object(1)\n",
      "memory usage: 14.7+ KB\n"
     ]
    }
   ],
   "source": [
    "# create a subset of batters\n",
    "batters_subset = merged_batters[columns_to_use]\n",
    "batters_subset.info()"
   ]
  },
  {
   "cell_type": "code",
   "execution_count": 13,
   "id": "7ed58c48-8f49-466c-b134-89f3f0d4dfc3",
   "metadata": {},
   "outputs": [
    {
     "data": {
      "text/html": [
       "<div>\n",
       "<style scoped>\n",
       "    .dataframe tbody tr th:only-of-type {\n",
       "        vertical-align: middle;\n",
       "    }\n",
       "\n",
       "    .dataframe tbody tr th {\n",
       "        vertical-align: top;\n",
       "    }\n",
       "\n",
       "    .dataframe thead th {\n",
       "        text-align: right;\n",
       "    }\n",
       "</style>\n",
       "<table border=\"1\" class=\"dataframe\">\n",
       "  <thead>\n",
       "    <tr style=\"text-align: right;\">\n",
       "      <th></th>\n",
       "      <th>Player</th>\n",
       "      <th>StatType</th>\n",
       "      <th>Value</th>\n",
       "    </tr>\n",
       "  </thead>\n",
       "  <tbody>\n",
       "    <tr>\n",
       "      <th>270</th>\n",
       "      <td>A.J. Pierzynski</td>\n",
       "      <td>OBP</td>\n",
       "      <td>0.331</td>\n",
       "    </tr>\n",
       "    <tr>\n",
       "      <th>1200</th>\n",
       "      <td>A.J. Pierzynski</td>\n",
       "      <td>LD%</td>\n",
       "      <td>19.900</td>\n",
       "    </tr>\n",
       "    <tr>\n",
       "      <th>115</th>\n",
       "      <td>A.J. Pierzynski</td>\n",
       "      <td>AVG</td>\n",
       "      <td>0.300</td>\n",
       "    </tr>\n",
       "    <tr>\n",
       "      <th>1045</th>\n",
       "      <td>A.J. Pierzynski</td>\n",
       "      <td>FB%</td>\n",
       "      <td>27.300</td>\n",
       "    </tr>\n",
       "    <tr>\n",
       "      <th>1510</th>\n",
       "      <td>A.J. Pierzynski</td>\n",
       "      <td>Cent%</td>\n",
       "      <td>54.800</td>\n",
       "    </tr>\n",
       "    <tr>\n",
       "      <th>890</th>\n",
       "      <td>A.J. Pierzynski</td>\n",
       "      <td>GB%</td>\n",
       "      <td>46.500</td>\n",
       "    </tr>\n",
       "    <tr>\n",
       "      <th>735</th>\n",
       "      <td>A.J. Pierzynski</td>\n",
       "      <td>ISO</td>\n",
       "      <td>0.125</td>\n",
       "    </tr>\n",
       "    <tr>\n",
       "      <th>580</th>\n",
       "      <td>A.J. Pierzynski</td>\n",
       "      <td>BABiP</td>\n",
       "      <td>0.312</td>\n",
       "    </tr>\n",
       "    <tr>\n",
       "      <th>1665</th>\n",
       "      <td>A.J. Pierzynski</td>\n",
       "      <td>Pull%</td>\n",
       "      <td>25.100</td>\n",
       "    </tr>\n",
       "    <tr>\n",
       "      <th>1355</th>\n",
       "      <td>A.J. Pierzynski</td>\n",
       "      <td>Oppo%</td>\n",
       "      <td>20.100</td>\n",
       "    </tr>\n",
       "  </tbody>\n",
       "</table>\n",
       "</div>"
      ],
      "text/plain": [
       "               Player StatType   Value\n",
       "270   A.J. Pierzynski      OBP   0.331\n",
       "1200  A.J. Pierzynski      LD%  19.900\n",
       "115   A.J. Pierzynski      AVG   0.300\n",
       "1045  A.J. Pierzynski      FB%  27.300\n",
       "1510  A.J. Pierzynski    Cent%  54.800\n",
       "890   A.J. Pierzynski      GB%  46.500\n",
       "735   A.J. Pierzynski      ISO   0.125\n",
       "580   A.J. Pierzynski    BABiP   0.312\n",
       "1665  A.J. Pierzynski    Pull%  25.100\n",
       "1355  A.J. Pierzynski    Oppo%  20.100"
      ]
     },
     "execution_count": 13,
     "metadata": {},
     "output_type": "execute_result"
    }
   ],
   "source": [
    "# melt the df to a long format\n",
    "batters_long = pd.melt(batters_subset, id_vars='Player', var_name='StatType', value_name='Value')\n",
    "batters_long.sort_values(by='Player', ascending=True).head(10)"
   ]
  },
  {
   "cell_type": "code",
   "execution_count": 14,
   "id": "352f5bd9-164d-4518-a58f-5b23a4b034ef",
   "metadata": {},
   "outputs": [],
   "source": [
    "# create the dictionary of league averages\n",
    "lg_avgs = {\n",
    "    'AVG':.262,\n",
    "    'OBP':.333,\n",
    "    'SLG':.418,\n",
    "    'BABiP':.299,\n",
    "    'ISO':.155,\n",
    "    'GB%':42.8,\n",
    "    'FB%':28.5,\n",
    "    'LD%':18.9,\n",
    "    'Oppo%':16.7,\n",
    "    'Cent%':57.1,\n",
    "    'Pull%':26.2\n",
    "}"
   ]
  },
  {
   "cell_type": "code",
   "execution_count": 17,
   "id": "1d8f0c5f-3431-44b3-a98a-2be97caadf66",
   "metadata": {},
   "outputs": [
    {
     "name": "stdout",
     "output_type": "stream",
     "text": [
      "<class 'pandas.core.frame.DataFrame'>\n",
      "RangeIndex: 11 entries, 0 to 10\n",
      "Data columns (total 3 columns):\n",
      " #   Column    Non-Null Count  Dtype  \n",
      "---  ------    --------------  -----  \n",
      " 0   Player    11 non-null     object \n",
      " 1   StatType  11 non-null     object \n",
      " 2   Value     11 non-null     float64\n",
      "dtypes: float64(1), object(2)\n",
      "memory usage: 392.0+ bytes\n"
     ]
    }
   ],
   "source": [
    "# convert dict to df\n",
    "lg_avgs_df = pd.DataFrame({\n",
    "    'Player': ['MLB'] * len(lg_avgs),\n",
    "    'StatType': list(lg_avgs.keys()),\n",
    "    'Value': list(lg_avgs.values())\n",
    "})\n",
    "lg_avgs_df.info()"
   ]
  },
  {
   "cell_type": "code",
   "execution_count": 18,
   "id": "aa8961a4-232c-4275-bdeb-18e3aaf43420",
   "metadata": {},
   "outputs": [
    {
     "name": "stdout",
     "output_type": "stream",
     "text": [
      "<class 'pandas.core.frame.DataFrame'>\n",
      "RangeIndex: 1716 entries, 0 to 1715\n",
      "Data columns (total 3 columns):\n",
      " #   Column    Non-Null Count  Dtype  \n",
      "---  ------    --------------  -----  \n",
      " 0   Player    1716 non-null   object \n",
      " 1   StatType  1716 non-null   object \n",
      " 2   Value     1716 non-null   float64\n",
      "dtypes: float64(1), object(2)\n",
      "memory usage: 40.3+ KB\n"
     ]
    }
   ],
   "source": [
    "batters_long = pd.concat([batters_long, lg_avgs_df], ignore_index=True)\n",
    "batters_long.info()"
   ]
  },
  {
   "cell_type": "code",
   "execution_count": null,
   "id": "3d49b4a8-41ce-488f-99d3-18d8fa835e94",
   "metadata": {},
   "outputs": [],
   "source": []
  },
  {
   "cell_type": "markdown",
   "id": "29ed7163-9846-46cb-bb59-021f4140e397",
   "metadata": {},
   "source": [
    "Looking good! Ready to export!"
   ]
  },
  {
   "cell_type": "code",
   "execution_count": 19,
   "id": "f54a5ce9-72e0-4ce4-bc0c-568a976cbf21",
   "metadata": {},
   "outputs": [],
   "source": [
    "# export the long dataframe for dashboard usage\n",
    "filename = 'mlb_qualified_batters_2009_long.csv'\n",
    "csv_path = os.path.join(processed_data_dir, filename)\n",
    "batters_long.to_csv(csv_path)"
   ]
  }
 ],
 "metadata": {
  "kernelspec": {
   "display_name": "Python3 (Mauer)",
   "language": "python",
   "name": "myproject-env"
  },
  "language_info": {
   "codemirror_mode": {
    "name": "ipython",
    "version": 3
   },
   "file_extension": ".py",
   "mimetype": "text/x-python",
   "name": "python",
   "nbconvert_exporter": "python",
   "pygments_lexer": "ipython3",
   "version": "3.9.6"
  }
 },
 "nbformat": 4,
 "nbformat_minor": 5
}
